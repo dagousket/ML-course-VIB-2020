{
  "nbformat": 4,
  "nbformat_minor": 0,
  "metadata": {
    "colab": {
      "name": "Histone_Marks_DL.ipynb",
      "provenance": [],
      "collapsed_sections": [],
      "authorship_tag": "ABX9TyMLKCxsrmpa8j/NpHQNJgXe",
      "include_colab_link": true
    },
    "kernelspec": {
      "name": "python3",
      "display_name": "Python 3"
    },
    "accelerator": "GPU"
  },
  "cells": [
    {
      "cell_type": "markdown",
      "metadata": {
        "id": "view-in-github",
        "colab_type": "text"
      },
      "source": [
        "<a href=\"https://colab.research.google.com/github/dagousket/ML-course-VIB-2020/blob/master/Histone_Marks_DL.ipynb\" target=\"_parent\"><img src=\"https://colab.research.google.com/assets/colab-badge.svg\" alt=\"Open In Colab\"/></a>"
      ]
    },
    {
      "cell_type": "markdown",
      "metadata": {
        "id": "o52twcg0ab9e"
      },
      "source": [
        "### Let's go Deep Learning style!\n"
      ]
    },
    {
      "cell_type": "code",
      "metadata": {
        "id": "739qUvqTa-w2"
      },
      "source": [
        "%matplotlib inline\n",
        "\n",
        "import matplotlib.pyplot as plt\n",
        "import numpy as np\n",
        "import pandas as pd\n",
        "import seaborn as sns\n",
        "import os\n",
        "import PIL\n",
        "import tensorflow as tf\n",
        "\n",
        "random_seed = 666\n",
        "np.random.seed(random_seed)\n",
        "\n",
        "from tensorflow import keras\n",
        "from tensorflow.keras import layers\n",
        "from tensorflow.keras.models import Sequential"
      ],
      "execution_count": 1,
      "outputs": []
    },
    {
      "cell_type": "markdown",
      "metadata": {
        "id": "qCN6O91jc5qF"
      },
      "source": [
        "### Import and format data"
      ]
    },
    {
      "cell_type": "code",
      "metadata": {
        "id": "OJQcWIwjc6-9"
      },
      "source": [
        "train = pd.read_csv(\"https://raw.githubusercontent.com/sdgroeve/ML-course-VIB-2020/master/data/data_train.csv\")\n",
        "test = pd.read_csv(\"https://raw.githubusercontent.com/sdgroeve/ML-course-VIB-2020/master/data/data_test.csv\")\n",
        "\n",
        "# Save labels in external variable\n",
        "train_labels = train.pop(\"Label\")\n",
        "train_index_col = train.pop(\"GeneId\")\n",
        "test_index_col = test.pop(\"GeneId\")"
      ],
      "execution_count": 2,
      "outputs": []
    },
    {
      "cell_type": "code",
      "metadata": {
        "id": "ymCobsFUdMRF"
      },
      "source": [
        "marks = list(set([c_name.split(\"_\")[0] for c_name in train.columns]))\n",
        "\n",
        "# Shape of array will be 100 bins * 5 histone marks\n",
        "\n",
        "def pool_marks(mybins, marks) :\n",
        "  df = pd.DataFrame()\n",
        "  totalread = 0.001\n",
        "  for mark in marks :\n",
        "      df.reset_index()\n",
        "      df[mark] = mybins[[mark + \"_\" + str(bin) for bin in range(0,100)]].to_numpy()\n",
        "      totalread = totalread + sum(df[mark])\n",
        "  df = df.to_numpy() / totalread\n",
        "  return df\n",
        "\n",
        "def get_input(X, marks):\n",
        "  res_out = X.apply(lambda y : pool_marks(y, marks), axis = 1)\n",
        "  return pd.DataFrame(res_out)\n",
        "\n",
        "X = [A for A in get_input(train, marks).iloc[:,0]]\n",
        "X = np.array([np.array(dp) for dp in X])\n",
        "\n",
        "T = [A for A in get_input(test, marks).iloc[:,0]]\n",
        "T = np.array([np.array(dp) for dp in T])"
      ],
      "execution_count": 3,
      "outputs": []
    },
    {
      "cell_type": "code",
      "metadata": {
        "id": "3Tmk2yyeaSTz",
        "colab": {
          "base_uri": "https://localhost:8080/"
        },
        "outputId": "e795e4b5-90f9-47c7-8cce-c84518a5ada2"
      },
      "source": [
        "X.shape"
      ],
      "execution_count": 19,
      "outputs": [
        {
          "output_type": "execute_result",
          "data": {
            "text/plain": [
              "(10436, 100, 5)"
            ]
          },
          "metadata": {
            "tags": []
          },
          "execution_count": 19
        }
      ]
    },
    {
      "cell_type": "code",
      "metadata": {
        "colab": {
          "base_uri": "https://localhost:8080/"
        },
        "id": "CPfrr6y_hJEy",
        "outputId": "e8ed31bb-aca8-4224-eea1-dbd408760b22"
      },
      "source": [
        "#one-hot encode target column\n",
        "from keras.utils import to_categorical\n",
        "y_train = to_categorical(train_labels)\n",
        "y_train = np.array([Y for Y in y_train])\n",
        "print(y_train.shape)\n",
        "y_train[0]"
      ],
      "execution_count": 35,
      "outputs": [
        {
          "output_type": "stream",
          "text": [
            "(10436, 2)\n"
          ],
          "name": "stdout"
        },
        {
          "output_type": "execute_result",
          "data": {
            "text/plain": [
              "array([0., 1.], dtype=float32)"
            ]
          },
          "metadata": {
            "tags": []
          },
          "execution_count": 35
        }
      ]
    },
    {
      "cell_type": "code",
      "metadata": {
        "id": "kxcaZyt3BHXG"
      },
      "source": [
        "from sklearn.model_selection import train_test_split\n",
        "\n",
        "X_train, X_test, y_train, y_test = train_test_split(X, y_train, test_size=0.85)"
      ],
      "execution_count": 36,
      "outputs": []
    },
    {
      "cell_type": "markdown",
      "metadata": {
        "id": "3dNpRwWzknN2"
      },
      "source": [
        "### Make a DL model"
      ]
    },
    {
      "cell_type": "code",
      "metadata": {
        "colab": {
          "base_uri": "https://localhost:8080/"
        },
        "id": "CUVpsKhPkqJr",
        "outputId": "3c5d869f-7835-40c5-b742-92a2862a1d33"
      },
      "source": [
        "from keras.layers.recurrent import LSTM\n",
        "num_classes = 2\n",
        "\n",
        "model = Sequential([\n",
        "  layers.InputLayer(input_shape=(100,5)),\n",
        "  layers.Conv1D(30, kernel_size=3, padding=\"valid\", activation='relu', kernel_initializer='random_uniform', data_format =\"channels_last\"),\n",
        "  layers.MaxPooling1D(pool_size=5, strides=1, padding='valid'),\n",
        "  layers.Dropout(0.2),\n",
        "  layers.TimeDistributed(layers.Dense(128, activation='relu')),\n",
        "  layers.Bidirectional(LSTM(128, dropout=0.1, recurrent_dropout=0.1, return_sequences=True)),\n",
        "  layers.Dropout(0.2),\n",
        "  layers.Flatten(),\n",
        "  layers.Dense(20, activation='relu'),\n",
        "  layers.Dropout(0.4),\n",
        "  layers.Dense(num_classes, activation='softmax')])\n",
        "\n",
        "\n",
        "model.compile(optimizer='adam',\n",
        "              loss='BinaryCrossentropy',\n",
        "              metrics=['accuracy'])\n",
        "\n",
        "model.summary()"
      ],
      "execution_count": 40,
      "outputs": [
        {
          "output_type": "stream",
          "text": [
            "WARNING:tensorflow:Layer lstm_7 will not use cuDNN kernel since it doesn't meet the cuDNN kernel criteria. It will use generic GPU kernel as fallback when running on GPU\n",
            "WARNING:tensorflow:Layer lstm_7 will not use cuDNN kernel since it doesn't meet the cuDNN kernel criteria. It will use generic GPU kernel as fallback when running on GPU\n",
            "WARNING:tensorflow:Layer lstm_7 will not use cuDNN kernel since it doesn't meet the cuDNN kernel criteria. It will use generic GPU kernel as fallback when running on GPU\n",
            "Model: \"sequential_7\"\n",
            "_________________________________________________________________\n",
            "Layer (type)                 Output Shape              Param #   \n",
            "=================================================================\n",
            "conv1d_9 (Conv1D)            (None, 98, 30)            480       \n",
            "_________________________________________________________________\n",
            "max_pooling1d_7 (MaxPooling1 (None, 94, 30)            0         \n",
            "_________________________________________________________________\n",
            "dropout_21 (Dropout)         (None, 94, 30)            0         \n",
            "_________________________________________________________________\n",
            "time_distributed_7 (TimeDist (None, 94, 128)           3968      \n",
            "_________________________________________________________________\n",
            "bidirectional_7 (Bidirection (None, 94, 256)           263168    \n",
            "_________________________________________________________________\n",
            "dropout_22 (Dropout)         (None, 94, 256)           0         \n",
            "_________________________________________________________________\n",
            "flatten_7 (Flatten)          (None, 24064)             0         \n",
            "_________________________________________________________________\n",
            "dense_22 (Dense)             (None, 20)                481300    \n",
            "_________________________________________________________________\n",
            "dropout_23 (Dropout)         (None, 20)                0         \n",
            "_________________________________________________________________\n",
            "dense_23 (Dense)             (None, 2)                 42        \n",
            "=================================================================\n",
            "Total params: 748,958\n",
            "Trainable params: 748,958\n",
            "Non-trainable params: 0\n",
            "_________________________________________________________________\n"
          ],
          "name": "stdout"
        }
      ]
    },
    {
      "cell_type": "code",
      "metadata": {
        "colab": {
          "base_uri": "https://localhost:8080/"
        },
        "id": "M5i0PnDxlVmB",
        "outputId": "d067e7ad-47ae-4961-b265-e1216de776e2"
      },
      "source": [
        "\n",
        "history=model.fit(X_train, y_train, batch_size=100 , epochs=100 , verbose=1, validation_data=(X_test, y_test))\n"
      ],
      "execution_count": 41,
      "outputs": [
        {
          "output_type": "stream",
          "text": [
            "Epoch 1/100\n",
            "16/16 [==============================] - 14s 872ms/step - loss: 0.6943 - accuracy: 0.4984 - val_loss: 0.6922 - val_accuracy: 0.8134\n",
            "Epoch 2/100\n",
            "16/16 [==============================] - 13s 836ms/step - loss: 0.6892 - accuracy: 0.5361 - val_loss: 0.6813 - val_accuracy: 0.5033\n",
            "Epoch 3/100\n",
            "16/16 [==============================] - 13s 835ms/step - loss: 0.6912 - accuracy: 0.5527 - val_loss: 0.6666 - val_accuracy: 0.7534\n",
            "Epoch 4/100\n",
            "16/16 [==============================] - 13s 836ms/step - loss: 0.6151 - accuracy: 0.7131 - val_loss: 0.4490 - val_accuracy: 0.8303\n",
            "Epoch 5/100\n",
            "16/16 [==============================] - 13s 844ms/step - loss: 0.5345 - accuracy: 0.7610 - val_loss: 0.5134 - val_accuracy: 0.8094\n",
            "Epoch 6/100\n",
            "16/16 [==============================] - 13s 832ms/step - loss: 0.5130 - accuracy: 0.7866 - val_loss: 0.4520 - val_accuracy: 0.8185\n",
            "Epoch 7/100\n",
            "16/16 [==============================] - 13s 820ms/step - loss: 0.5053 - accuracy: 0.7955 - val_loss: 0.4404 - val_accuracy: 0.8257\n",
            "Epoch 8/100\n",
            "16/16 [==============================] - 13s 819ms/step - loss: 0.4605 - accuracy: 0.8160 - val_loss: 0.4192 - val_accuracy: 0.8301\n",
            "Epoch 9/100\n",
            "16/16 [==============================] - 13s 826ms/step - loss: 0.4505 - accuracy: 0.8294 - val_loss: 0.4108 - val_accuracy: 0.8336\n",
            "Epoch 10/100\n",
            "16/16 [==============================] - 13s 819ms/step - loss: 0.4438 - accuracy: 0.8300 - val_loss: 0.4463 - val_accuracy: 0.8179\n",
            "Epoch 11/100\n",
            "16/16 [==============================] - 13s 819ms/step - loss: 0.4938 - accuracy: 0.8096 - val_loss: 0.4297 - val_accuracy: 0.8328\n",
            "Epoch 12/100\n",
            "16/16 [==============================] - 13s 825ms/step - loss: 0.4803 - accuracy: 0.8070 - val_loss: 0.4758 - val_accuracy: 0.8099\n",
            "Epoch 13/100\n",
            "16/16 [==============================] - 13s 824ms/step - loss: 0.4797 - accuracy: 0.8077 - val_loss: 0.4447 - val_accuracy: 0.8225\n",
            "Epoch 14/100\n",
            "16/16 [==============================] - 13s 826ms/step - loss: 0.4554 - accuracy: 0.8211 - val_loss: 0.4086 - val_accuracy: 0.8351\n",
            "Epoch 15/100\n",
            "16/16 [==============================] - 13s 829ms/step - loss: 0.4302 - accuracy: 0.8326 - val_loss: 0.3986 - val_accuracy: 0.8422\n",
            "Epoch 16/100\n",
            "16/16 [==============================] - 13s 839ms/step - loss: 0.4185 - accuracy: 0.8454 - val_loss: 0.3874 - val_accuracy: 0.8431\n",
            "Epoch 17/100\n",
            "16/16 [==============================] - 13s 824ms/step - loss: 0.4183 - accuracy: 0.8364 - val_loss: 0.4661 - val_accuracy: 0.8063\n",
            "Epoch 18/100\n",
            "16/16 [==============================] - 13s 820ms/step - loss: 0.4568 - accuracy: 0.8141 - val_loss: 0.4195 - val_accuracy: 0.8414\n",
            "Epoch 19/100\n",
            "16/16 [==============================] - 14s 844ms/step - loss: 0.4571 - accuracy: 0.8185 - val_loss: 0.4334 - val_accuracy: 0.8195\n",
            "Epoch 20/100\n",
            "16/16 [==============================] - 13s 842ms/step - loss: 0.4331 - accuracy: 0.8351 - val_loss: 0.3962 - val_accuracy: 0.8379\n",
            "Epoch 21/100\n",
            "16/16 [==============================] - 13s 816ms/step - loss: 0.4185 - accuracy: 0.8351 - val_loss: 0.3937 - val_accuracy: 0.8453\n",
            "Epoch 22/100\n",
            "16/16 [==============================] - 13s 826ms/step - loss: 0.4394 - accuracy: 0.8294 - val_loss: 0.4613 - val_accuracy: 0.8013\n",
            "Epoch 23/100\n",
            "16/16 [==============================] - 13s 829ms/step - loss: 0.4455 - accuracy: 0.8249 - val_loss: 0.3995 - val_accuracy: 0.8378\n",
            "Epoch 24/100\n",
            "16/16 [==============================] - 13s 821ms/step - loss: 0.4073 - accuracy: 0.8409 - val_loss: 0.3903 - val_accuracy: 0.8412\n",
            "Epoch 25/100\n",
            "16/16 [==============================] - 13s 834ms/step - loss: 0.4225 - accuracy: 0.8345 - val_loss: 0.4009 - val_accuracy: 0.8343\n",
            "Epoch 26/100\n",
            "16/16 [==============================] - 13s 823ms/step - loss: 0.4047 - accuracy: 0.8396 - val_loss: 0.3871 - val_accuracy: 0.8468\n",
            "Epoch 27/100\n",
            "16/16 [==============================] - 13s 836ms/step - loss: 0.4026 - accuracy: 0.8415 - val_loss: 0.3786 - val_accuracy: 0.8496\n",
            "Epoch 28/100\n",
            "16/16 [==============================] - 13s 819ms/step - loss: 0.4208 - accuracy: 0.8383 - val_loss: 0.4117 - val_accuracy: 0.8505\n",
            "Epoch 29/100\n",
            "16/16 [==============================] - 13s 841ms/step - loss: 0.4131 - accuracy: 0.8454 - val_loss: 0.3780 - val_accuracy: 0.8483\n",
            "Epoch 30/100\n",
            "16/16 [==============================] - 13s 827ms/step - loss: 0.4117 - accuracy: 0.8428 - val_loss: 0.3803 - val_accuracy: 0.8466\n",
            "Epoch 31/100\n",
            "16/16 [==============================] - 13s 829ms/step - loss: 0.4118 - accuracy: 0.8415 - val_loss: 0.3816 - val_accuracy: 0.8464\n",
            "Epoch 32/100\n",
            "16/16 [==============================] - 13s 826ms/step - loss: 0.4096 - accuracy: 0.8383 - val_loss: 0.4055 - val_accuracy: 0.8504\n",
            "Epoch 33/100\n",
            "16/16 [==============================] - 14s 851ms/step - loss: 0.4014 - accuracy: 0.8435 - val_loss: 0.4027 - val_accuracy: 0.8345\n",
            "Epoch 34/100\n",
            "16/16 [==============================] - 13s 832ms/step - loss: 0.4055 - accuracy: 0.8377 - val_loss: 0.3958 - val_accuracy: 0.8512\n",
            "Epoch 35/100\n",
            "16/16 [==============================] - 13s 821ms/step - loss: 0.4010 - accuracy: 0.8454 - val_loss: 0.3832 - val_accuracy: 0.8492\n",
            "Epoch 36/100\n",
            "16/16 [==============================] - 13s 834ms/step - loss: 0.3989 - accuracy: 0.8473 - val_loss: 0.4073 - val_accuracy: 0.8335\n",
            "Epoch 37/100\n",
            "16/16 [==============================] - 13s 829ms/step - loss: 0.4030 - accuracy: 0.8441 - val_loss: 0.3861 - val_accuracy: 0.8531\n",
            "Epoch 38/100\n",
            "16/16 [==============================] - 13s 827ms/step - loss: 0.3913 - accuracy: 0.8428 - val_loss: 0.3762 - val_accuracy: 0.8531\n",
            "Epoch 39/100\n",
            "16/16 [==============================] - 13s 831ms/step - loss: 0.3791 - accuracy: 0.8518 - val_loss: 0.4341 - val_accuracy: 0.8329\n",
            "Epoch 40/100\n",
            "16/16 [==============================] - 13s 832ms/step - loss: 0.4102 - accuracy: 0.8415 - val_loss: 0.3904 - val_accuracy: 0.8554\n",
            "Epoch 41/100\n",
            "16/16 [==============================] - 13s 832ms/step - loss: 0.3881 - accuracy: 0.8511 - val_loss: 0.3829 - val_accuracy: 0.8547\n",
            "Epoch 42/100\n",
            "16/16 [==============================] - 13s 838ms/step - loss: 0.3962 - accuracy: 0.8530 - val_loss: 0.3802 - val_accuracy: 0.8550\n",
            "Epoch 43/100\n",
            "16/16 [==============================] - 13s 817ms/step - loss: 0.3721 - accuracy: 0.8511 - val_loss: 0.3914 - val_accuracy: 0.8491\n",
            "Epoch 44/100\n",
            "16/16 [==============================] - 13s 829ms/step - loss: 0.3996 - accuracy: 0.8441 - val_loss: 0.3836 - val_accuracy: 0.8501\n",
            "Epoch 45/100\n",
            "16/16 [==============================] - 13s 817ms/step - loss: 0.3868 - accuracy: 0.8428 - val_loss: 0.4223 - val_accuracy: 0.8353\n",
            "Epoch 46/100\n",
            "16/16 [==============================] - 13s 826ms/step - loss: 0.3932 - accuracy: 0.8505 - val_loss: 0.3794 - val_accuracy: 0.8531\n",
            "Epoch 47/100\n",
            "16/16 [==============================] - 14s 845ms/step - loss: 0.3824 - accuracy: 0.8486 - val_loss: 0.3849 - val_accuracy: 0.8492\n",
            "Epoch 48/100\n",
            "16/16 [==============================] - 13s 832ms/step - loss: 0.3758 - accuracy: 0.8492 - val_loss: 0.3792 - val_accuracy: 0.8564\n",
            "Epoch 49/100\n",
            "16/16 [==============================] - 13s 825ms/step - loss: 0.3860 - accuracy: 0.8466 - val_loss: 0.4598 - val_accuracy: 0.8325\n",
            "Epoch 50/100\n",
            "16/16 [==============================] - 13s 826ms/step - loss: 0.4247 - accuracy: 0.8377 - val_loss: 0.4272 - val_accuracy: 0.8283\n",
            "Epoch 51/100\n",
            "16/16 [==============================] - 13s 834ms/step - loss: 0.3841 - accuracy: 0.8498 - val_loss: 0.3875 - val_accuracy: 0.8512\n",
            "Epoch 52/100\n",
            "16/16 [==============================] - 13s 836ms/step - loss: 0.3802 - accuracy: 0.8518 - val_loss: 0.3838 - val_accuracy: 0.8532\n",
            "Epoch 53/100\n",
            "16/16 [==============================] - 13s 842ms/step - loss: 0.3679 - accuracy: 0.8575 - val_loss: 0.3844 - val_accuracy: 0.8549\n",
            "Epoch 54/100\n",
            "16/16 [==============================] - 13s 838ms/step - loss: 0.3657 - accuracy: 0.8581 - val_loss: 0.3847 - val_accuracy: 0.8483\n",
            "Epoch 55/100\n",
            "16/16 [==============================] - 13s 831ms/step - loss: 0.3906 - accuracy: 0.8530 - val_loss: 0.3856 - val_accuracy: 0.8493\n",
            "Epoch 56/100\n",
            "16/16 [==============================] - 13s 831ms/step - loss: 0.3765 - accuracy: 0.8562 - val_loss: 0.4078 - val_accuracy: 0.8374\n",
            "Epoch 57/100\n",
            "16/16 [==============================] - 13s 831ms/step - loss: 0.3976 - accuracy: 0.8505 - val_loss: 0.4021 - val_accuracy: 0.8482\n",
            "Epoch 58/100\n",
            "16/16 [==============================] - 13s 827ms/step - loss: 0.3643 - accuracy: 0.8543 - val_loss: 0.3901 - val_accuracy: 0.8539\n",
            "Epoch 59/100\n",
            "16/16 [==============================] - 13s 825ms/step - loss: 0.3676 - accuracy: 0.8562 - val_loss: 0.3847 - val_accuracy: 0.8556\n",
            "Epoch 60/100\n",
            "16/16 [==============================] - 13s 830ms/step - loss: 0.3759 - accuracy: 0.8550 - val_loss: 0.4063 - val_accuracy: 0.8469\n",
            "Epoch 61/100\n",
            "16/16 [==============================] - 13s 836ms/step - loss: 0.3730 - accuracy: 0.8581 - val_loss: 0.3949 - val_accuracy: 0.8546\n",
            "Epoch 62/100\n",
            "16/16 [==============================] - 13s 838ms/step - loss: 0.3614 - accuracy: 0.8588 - val_loss: 0.3949 - val_accuracy: 0.8533\n",
            "Epoch 63/100\n",
            "16/16 [==============================] - 13s 835ms/step - loss: 0.3886 - accuracy: 0.8511 - val_loss: 0.4119 - val_accuracy: 0.8395\n",
            "Epoch 64/100\n",
            "16/16 [==============================] - 13s 812ms/step - loss: 0.3696 - accuracy: 0.8658 - val_loss: 0.4199 - val_accuracy: 0.8506\n",
            "Epoch 65/100\n",
            "16/16 [==============================] - 13s 830ms/step - loss: 0.3629 - accuracy: 0.8562 - val_loss: 0.4114 - val_accuracy: 0.8457\n",
            "Epoch 66/100\n",
            "16/16 [==============================] - 13s 839ms/step - loss: 0.3809 - accuracy: 0.8505 - val_loss: 0.4094 - val_accuracy: 0.8493\n",
            "Epoch 67/100\n",
            "16/16 [==============================] - 13s 816ms/step - loss: 0.3837 - accuracy: 0.8460 - val_loss: 0.4087 - val_accuracy: 0.8453\n",
            "Epoch 68/100\n",
            "16/16 [==============================] - 13s 821ms/step - loss: 0.3653 - accuracy: 0.8594 - val_loss: 0.4040 - val_accuracy: 0.8451\n",
            "Epoch 69/100\n",
            "16/16 [==============================] - 13s 830ms/step - loss: 0.3653 - accuracy: 0.8620 - val_loss: 0.4000 - val_accuracy: 0.8520\n",
            "Epoch 70/100\n",
            "16/16 [==============================] - 13s 830ms/step - loss: 0.3466 - accuracy: 0.8601 - val_loss: 0.3957 - val_accuracy: 0.8502\n",
            "Epoch 71/100\n",
            "16/16 [==============================] - 13s 834ms/step - loss: 0.3661 - accuracy: 0.8575 - val_loss: 0.3902 - val_accuracy: 0.8518\n",
            "Epoch 72/100\n",
            "16/16 [==============================] - 13s 838ms/step - loss: 0.3600 - accuracy: 0.8639 - val_loss: 0.3905 - val_accuracy: 0.8523\n",
            "Epoch 73/100\n",
            "16/16 [==============================] - 14s 863ms/step - loss: 0.3551 - accuracy: 0.8626 - val_loss: 0.3938 - val_accuracy: 0.8545\n",
            "Epoch 74/100\n",
            "16/16 [==============================] - 13s 828ms/step - loss: 0.3463 - accuracy: 0.8639 - val_loss: 0.4054 - val_accuracy: 0.8517\n",
            "Epoch 75/100\n",
            "16/16 [==============================] - 13s 830ms/step - loss: 0.3640 - accuracy: 0.8633 - val_loss: 0.4171 - val_accuracy: 0.8450\n",
            "Epoch 76/100\n",
            "16/16 [==============================] - 13s 832ms/step - loss: 0.3485 - accuracy: 0.8722 - val_loss: 0.4079 - val_accuracy: 0.8500\n",
            "Epoch 77/100\n",
            "16/16 [==============================] - 13s 840ms/step - loss: 0.3356 - accuracy: 0.8735 - val_loss: 0.4061 - val_accuracy: 0.8504\n",
            "Epoch 78/100\n",
            "16/16 [==============================] - 14s 844ms/step - loss: 0.3468 - accuracy: 0.8690 - val_loss: 0.4152 - val_accuracy: 0.8478\n",
            "Epoch 79/100\n",
            "16/16 [==============================] - 13s 833ms/step - loss: 0.3427 - accuracy: 0.8607 - val_loss: 0.4103 - val_accuracy: 0.8526\n",
            "Epoch 80/100\n",
            "16/16 [==============================] - 13s 827ms/step - loss: 0.3421 - accuracy: 0.8690 - val_loss: 0.4200 - val_accuracy: 0.8502\n",
            "Epoch 81/100\n",
            "16/16 [==============================] - 13s 822ms/step - loss: 0.3418 - accuracy: 0.8588 - val_loss: 0.4836 - val_accuracy: 0.8417\n",
            "Epoch 82/100\n",
            "16/16 [==============================] - 13s 831ms/step - loss: 0.3529 - accuracy: 0.8613 - val_loss: 0.4548 - val_accuracy: 0.8382\n",
            "Epoch 83/100\n",
            "16/16 [==============================] - 13s 812ms/step - loss: 0.3563 - accuracy: 0.8716 - val_loss: 0.4097 - val_accuracy: 0.8496\n",
            "Epoch 84/100\n",
            "16/16 [==============================] - 13s 833ms/step - loss: 0.3432 - accuracy: 0.8780 - val_loss: 0.4222 - val_accuracy: 0.8460\n",
            "Epoch 85/100\n",
            "16/16 [==============================] - 13s 809ms/step - loss: 0.3390 - accuracy: 0.8671 - val_loss: 0.4146 - val_accuracy: 0.8524\n",
            "Epoch 86/100\n",
            "16/16 [==============================] - 13s 830ms/step - loss: 0.3336 - accuracy: 0.8728 - val_loss: 0.4093 - val_accuracy: 0.8515\n",
            "Epoch 87/100\n",
            "16/16 [==============================] - 13s 825ms/step - loss: 0.3341 - accuracy: 0.8773 - val_loss: 0.4111 - val_accuracy: 0.8496\n",
            "Epoch 88/100\n",
            "16/16 [==============================] - 13s 827ms/step - loss: 0.3242 - accuracy: 0.8773 - val_loss: 0.4298 - val_accuracy: 0.8505\n",
            "Epoch 89/100\n",
            "16/16 [==============================] - 13s 829ms/step - loss: 0.3149 - accuracy: 0.8760 - val_loss: 0.4213 - val_accuracy: 0.8532\n",
            "Epoch 90/100\n",
            "16/16 [==============================] - 13s 833ms/step - loss: 0.3152 - accuracy: 0.8831 - val_loss: 0.4633 - val_accuracy: 0.8303\n",
            "Epoch 91/100\n",
            "16/16 [==============================] - 13s 835ms/step - loss: 0.3381 - accuracy: 0.8767 - val_loss: 0.4407 - val_accuracy: 0.8432\n",
            "Epoch 92/100\n",
            "16/16 [==============================] - 13s 824ms/step - loss: 0.3416 - accuracy: 0.8658 - val_loss: 0.4153 - val_accuracy: 0.8522\n",
            "Epoch 93/100\n",
            "16/16 [==============================] - 13s 825ms/step - loss: 0.3252 - accuracy: 0.8754 - val_loss: 0.4116 - val_accuracy: 0.8527\n",
            "Epoch 94/100\n",
            "16/16 [==============================] - 13s 829ms/step - loss: 0.3356 - accuracy: 0.8665 - val_loss: 0.4256 - val_accuracy: 0.8435\n",
            "Epoch 95/100\n",
            "16/16 [==============================] - 14s 860ms/step - loss: 0.3287 - accuracy: 0.8748 - val_loss: 0.4315 - val_accuracy: 0.8502\n",
            "Epoch 96/100\n",
            "16/16 [==============================] - 13s 841ms/step - loss: 0.3235 - accuracy: 0.8773 - val_loss: 0.4338 - val_accuracy: 0.8504\n",
            "Epoch 97/100\n",
            "16/16 [==============================] - 14s 877ms/step - loss: 0.3145 - accuracy: 0.8780 - val_loss: 0.4214 - val_accuracy: 0.8497\n",
            "Epoch 98/100\n",
            "16/16 [==============================] - 14s 854ms/step - loss: 0.3236 - accuracy: 0.8716 - val_loss: 0.4288 - val_accuracy: 0.8466\n",
            "Epoch 99/100\n",
            "16/16 [==============================] - 14s 852ms/step - loss: 0.3099 - accuracy: 0.8812 - val_loss: 0.4240 - val_accuracy: 0.8479\n",
            "Epoch 100/100\n",
            "16/16 [==============================] - 13s 843ms/step - loss: 0.3142 - accuracy: 0.8843 - val_loss: 0.4420 - val_accuracy: 0.8415\n"
          ],
          "name": "stdout"
        }
      ]
    },
    {
      "cell_type": "code",
      "metadata": {
        "id": "FUwDJOtBCVxI"
      },
      "source": [
        "from sklearn.metrics import log_loss, accuracy_score\n",
        "\n",
        "predictions_train_prob = model.predict(X_train)\n",
        "predictions_val_prob = model.predict(X_test)\n",
        "\n",
        "print(\"Log-loss: (%f) %f\"%(log_loss(y_train,predictions_train_prob[:,1]),log_loss(y_test,predictions_val_prob[:,1])))"
      ],
      "execution_count": 44,
      "outputs": []
    },
    {
      "cell_type": "code",
      "metadata": {
        "id": "sna6-aceKBjL"
      },
      "source": [
        "# Predict Kaggle set\n",
        "predictions_test_prob = model.predict(X_test)\n",
        "\n",
        "predictions_df = pd.DataFrame({\"GeneId\":X_test.index,\"Label\":predictions[:,1]})\n",
        "predictions_df.to_csv('submission_rf.csv', index=False)"
      ],
      "execution_count": null,
      "outputs": []
    }
  ]
}