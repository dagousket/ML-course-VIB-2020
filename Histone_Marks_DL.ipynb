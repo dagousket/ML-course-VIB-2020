{
  "nbformat": 4,
  "nbformat_minor": 0,
  "metadata": {
    "colab": {
      "name": "Histone_Marks_DL.ipynb",
      "provenance": [],
      "collapsed_sections": [],
      "toc_visible": true,
      "authorship_tag": "ABX9TyOud1SP8PjAkUZ5bx/+Jf+G",
      "include_colab_link": true
    },
    "kernelspec": {
      "name": "python3",
      "display_name": "Python 3"
    },
    "accelerator": "GPU"
  },
  "cells": [
    {
      "cell_type": "markdown",
      "metadata": {
        "id": "view-in-github",
        "colab_type": "text"
      },
      "source": [
        "<a href=\"https://colab.research.google.com/github/dagousket/ML-course-VIB-2020/blob/master/Histone_Marks_DL.ipynb\" target=\"_parent\"><img src=\"https://colab.research.google.com/assets/colab-badge.svg\" alt=\"Open In Colab\"/></a>"
      ]
    },
    {
      "cell_type": "markdown",
      "metadata": {
        "id": "o52twcg0ab9e"
      },
      "source": [
        "### Let's go Deep Learning style!\n"
      ]
    },
    {
      "cell_type": "code",
      "metadata": {
        "id": "739qUvqTa-w2"
      },
      "source": [
        "%matplotlib inline\n",
        "\n",
        "import matplotlib.pyplot as plt\n",
        "import numpy as np\n",
        "import pandas as pd\n",
        "import seaborn as sns\n",
        "import os\n",
        "import PIL\n",
        "import tensorflow as tf\n",
        "\n",
        "random_seed = 666\n",
        "np.random.seed(random_seed)\n",
        "\n",
        "from tensorflow import keras\n",
        "from tensorflow.keras import layers\n",
        "from tensorflow.keras.models import Sequential\n",
        "from sklearn.metrics import log_loss, accuracy_score"
      ],
      "execution_count": 100,
      "outputs": []
    },
    {
      "cell_type": "markdown",
      "metadata": {
        "id": "qCN6O91jc5qF"
      },
      "source": [
        "### Import and format data"
      ]
    },
    {
      "cell_type": "code",
      "metadata": {
        "id": "OJQcWIwjc6-9"
      },
      "source": [
        "train = pd.read_csv(\"https://raw.githubusercontent.com/sdgroeve/ML-course-VIB-2020/master/data/data_train.csv\")\n",
        "test = pd.read_csv(\"https://raw.githubusercontent.com/sdgroeve/ML-course-VIB-2020/master/data/data_test.csv\")\n",
        "\n",
        "# Save labels in external variable\n",
        "train_labels = train.pop(\"Label\")\n",
        "train_index_col = train.pop(\"GeneId\")\n",
        "test_index_col = test.pop(\"GeneId\")"
      ],
      "execution_count": 101,
      "outputs": []
    },
    {
      "cell_type": "code",
      "metadata": {
        "id": "ymCobsFUdMRF"
      },
      "source": [
        "marks = list(set([c_name.split(\"_\")[0] for c_name in train.columns]))\n",
        "\n",
        "# Shape of array will be 100 bins * 5 histone marks\n",
        "\n",
        "def pool_marks(mybins, marks) :\n",
        "  df = pd.DataFrame()\n",
        "  for mark in marks :\n",
        "      df.reset_index()\n",
        "      df[mark] = mybins[[mark + \"_\" + str(bin) for bin in range(0,100)]].to_numpy()\n",
        "  df = df.to_numpy() / 200\n",
        "  return df\n",
        "\n",
        "def get_input(X, marks):\n",
        "  res_out = X.apply(lambda y : pool_marks(y, marks), axis = 1)\n",
        "  return pd.DataFrame(res_out)\n",
        "\n",
        "X = [A for A in get_input(train, marks).iloc[:,0]]\n",
        "X = np.array([np.array(dp) for dp in X])\n",
        "\n",
        "T = [A for A in get_input(test, marks).iloc[:,0]]\n",
        "T = np.array([np.array(dp) for dp in T])"
      ],
      "execution_count": 102,
      "outputs": []
    },
    {
      "cell_type": "code",
      "metadata": {
        "id": "3Tmk2yyeaSTz",
        "colab": {
          "base_uri": "https://localhost:8080/"
        },
        "outputId": "32ccb8f7-d9bf-4e23-f7e4-d7090c048777"
      },
      "source": [
        "print(X.shape)\n",
        "print(T.shape)\n",
        "X[:5]"
      ],
      "execution_count": 103,
      "outputs": [
        {
          "output_type": "stream",
          "text": [
            "(10436, 100, 5)\n",
            "(5049, 100, 5)\n"
          ],
          "name": "stdout"
        },
        {
          "output_type": "execute_result",
          "data": {
            "text/plain": [
              "array([[[0.015, 0.01 , 0.005, 0.005, 0.005],\n",
              "        [0.005, 0.025, 0.005, 0.01 , 0.   ],\n",
              "        [0.015, 0.04 , 0.005, 0.015, 0.025],\n",
              "        ...,\n",
              "        [0.015, 0.08 , 0.01 , 0.04 , 0.03 ],\n",
              "        [0.01 , 0.075, 0.01 , 0.055, 0.025],\n",
              "        [0.01 , 0.06 , 0.01 , 0.05 , 0.01 ]],\n",
              "\n",
              "       [[0.   , 0.005, 0.   , 0.   , 0.005],\n",
              "        [0.01 , 0.01 , 0.01 , 0.   , 0.   ],\n",
              "        [0.005, 0.005, 0.01 , 0.   , 0.   ],\n",
              "        ...,\n",
              "        [0.   , 0.005, 0.   , 0.005, 0.   ],\n",
              "        [0.   , 0.   , 0.005, 0.005, 0.   ],\n",
              "        [0.   , 0.   , 0.005, 0.005, 0.   ]],\n",
              "\n",
              "       [[0.005, 0.005, 0.035, 0.015, 0.005],\n",
              "        [0.01 , 0.005, 0.02 , 0.01 , 0.005],\n",
              "        [0.   , 0.02 , 0.01 , 0.01 , 0.005],\n",
              "        ...,\n",
              "        [0.005, 0.005, 0.01 , 0.   , 0.005],\n",
              "        [0.   , 0.   , 0.005, 0.005, 0.01 ],\n",
              "        [0.   , 0.005, 0.005, 0.005, 0.005]],\n",
              "\n",
              "       [[0.015, 0.02 , 0.02 , 0.01 , 0.005],\n",
              "        [0.015, 0.005, 0.   , 0.01 , 0.005],\n",
              "        [0.005, 0.005, 0.005, 0.03 , 0.005],\n",
              "        ...,\n",
              "        [0.01 , 0.005, 0.01 , 0.015, 0.01 ],\n",
              "        [0.01 , 0.01 , 0.015, 0.005, 0.02 ],\n",
              "        [0.   , 0.   , 0.02 , 0.015, 0.   ]],\n",
              "\n",
              "       [[0.04 , 0.01 , 0.005, 0.005, 0.   ],\n",
              "        [0.015, 0.005, 0.   , 0.01 , 0.005],\n",
              "        [0.015, 0.   , 0.   , 0.   , 0.01 ],\n",
              "        ...,\n",
              "        [0.   , 0.   , 0.01 , 0.01 , 0.   ],\n",
              "        [0.005, 0.01 , 0.01 , 0.005, 0.01 ],\n",
              "        [0.   , 0.005, 0.   , 0.005, 0.005]]])"
            ]
          },
          "metadata": {
            "tags": []
          },
          "execution_count": 103
        }
      ]
    },
    {
      "cell_type": "code",
      "metadata": {
        "colab": {
          "base_uri": "https://localhost:8080/"
        },
        "id": "CPfrr6y_hJEy",
        "outputId": "084df97c-e559-4051-bcf6-c640866ae0ba"
      },
      "source": [
        "#one-hot encode target column\n",
        "from keras.utils import to_categorical\n",
        "y_train = to_categorical(train_labels)\n",
        "y_train = np.array([Y for Y in y_train])\n",
        "print(y_train.shape)\n",
        "y_train[:5]"
      ],
      "execution_count": 106,
      "outputs": [
        {
          "output_type": "stream",
          "text": [
            "(10436,)\n"
          ],
          "name": "stdout"
        },
        {
          "output_type": "execute_result",
          "data": {
            "text/plain": [
              "array([0., 0., 1., 1., 0.], dtype=float32)"
            ]
          },
          "metadata": {
            "tags": []
          },
          "execution_count": 106
        }
      ]
    },
    {
      "cell_type": "code",
      "metadata": {
        "id": "kxcaZyt3BHXG"
      },
      "source": [
        "from sklearn.model_selection import train_test_split\n",
        "\n",
        "X_train, X_test, y_train, y_test = train_test_split(X, y_train, test_size=0.1)"
      ],
      "execution_count": 107,
      "outputs": []
    },
    {
      "cell_type": "markdown",
      "metadata": {
        "id": "3dNpRwWzknN2"
      },
      "source": [
        "### Make a DL model"
      ]
    },
    {
      "cell_type": "code",
      "metadata": {
        "colab": {
          "base_uri": "https://localhost:8080/"
        },
        "id": "CUVpsKhPkqJr",
        "outputId": "f81ed9ef-a4be-4d75-97e5-23b364580075"
      },
      "source": [
        "from keras.layers.recurrent import LSTM\n",
        "\n",
        "num_classes = 2\n",
        "\n",
        "model = Sequential([\n",
        "  layers.InputLayer(input_shape=(100,5)),\n",
        "  layers.Conv1D(30, kernel_size=3, padding=\"valid\", activation='relu', kernel_initializer='random_uniform', data_format =\"channels_last\"),\n",
        "  layers.MaxPooling1D(pool_size=3, strides=1, padding='valid'),\n",
        "  layers.Dropout(0.2),\n",
        "  layers.TimeDistributed(layers.Dense(128, activation='relu')),\n",
        "  layers.Bidirectional(LSTM(128, dropout=0.1, recurrent_dropout=0.1, return_sequences=True)),\n",
        "  layers.Dropout(0.2),\n",
        "  layers.Flatten(),\n",
        "  layers.Dense(20, activation='relu'),\n",
        "  layers.Dropout(0.4),\n",
        "  layers.Dense(num_classes, activation='softmax')])\n",
        "\n",
        "\n",
        "\n",
        "model.compile(optimizer='adam',\n",
        "              loss=tf.compat.v1.losses.log_loss,\n",
        "              metrics=['accuracy'])\n",
        "\n",
        "model.summary()"
      ],
      "execution_count": 108,
      "outputs": [
        {
          "output_type": "stream",
          "text": [
            "WARNING:tensorflow:Layer lstm_6 will not use cuDNN kernel since it doesn't meet the cuDNN kernel criteria. It will use generic GPU kernel as fallback when running on GPU\n",
            "WARNING:tensorflow:Layer lstm_6 will not use cuDNN kernel since it doesn't meet the cuDNN kernel criteria. It will use generic GPU kernel as fallback when running on GPU\n",
            "WARNING:tensorflow:Layer lstm_6 will not use cuDNN kernel since it doesn't meet the cuDNN kernel criteria. It will use generic GPU kernel as fallback when running on GPU\n",
            "Model: \"sequential_10\"\n",
            "_________________________________________________________________\n",
            "Layer (type)                 Output Shape              Param #   \n",
            "=================================================================\n",
            "conv1d_19 (Conv1D)           (None, 98, 30)            480       \n",
            "_________________________________________________________________\n",
            "max_pooling1d_18 (MaxPooling (None, 96, 30)            0         \n",
            "_________________________________________________________________\n",
            "dropout_28 (Dropout)         (None, 96, 30)            0         \n",
            "_________________________________________________________________\n",
            "time_distributed_6 (TimeDist (None, 96, 128)           3968      \n",
            "_________________________________________________________________\n",
            "bidirectional_6 (Bidirection (None, 96, 256)           263168    \n",
            "_________________________________________________________________\n",
            "dropout_29 (Dropout)         (None, 96, 256)           0         \n",
            "_________________________________________________________________\n",
            "flatten_10 (Flatten)         (None, 24576)             0         \n",
            "_________________________________________________________________\n",
            "dense_27 (Dense)             (None, 20)                491540    \n",
            "_________________________________________________________________\n",
            "dropout_30 (Dropout)         (None, 20)                0         \n",
            "_________________________________________________________________\n",
            "dense_28 (Dense)             (None, 1)                 21        \n",
            "=================================================================\n",
            "Total params: 759,177\n",
            "Trainable params: 759,177\n",
            "Non-trainable params: 0\n",
            "_________________________________________________________________\n"
          ],
          "name": "stdout"
        }
      ]
    },
    {
      "cell_type": "code",
      "metadata": {
        "colab": {
          "base_uri": "https://localhost:8080/"
        },
        "id": "M5i0PnDxlVmB",
        "outputId": "12ce7e61-cd6d-45f7-cca3-b32d3e0f54f6"
      },
      "source": [
        "\n",
        "history=model.fit(X_train, y_train, batch_size=500 , epochs=3 , verbose=1, validation_data=(X_test, y_test))\n"
      ],
      "execution_count": 110,
      "outputs": [
        {
          "output_type": "stream",
          "text": [
            "Epoch 1/3\n",
            "19/19 [==============================] - 13s 667ms/step - loss: 8.0323 - accuracy: 0.4962 - val_loss: 7.9101 - val_accuracy: 0.5038\n",
            "Epoch 2/3\n",
            "19/19 [==============================] - 12s 655ms/step - loss: 8.0323 - accuracy: 0.4962 - val_loss: 7.9101 - val_accuracy: 0.5038\n",
            "Epoch 3/3\n",
            "19/19 [==============================] - 12s 654ms/step - loss: 8.0323 - accuracy: 0.4962 - val_loss: 7.9101 - val_accuracy: 0.5038\n"
          ],
          "name": "stdout"
        }
      ]
    },
    {
      "cell_type": "code",
      "metadata": {
        "id": "FUwDJOtBCVxI"
      },
      "source": [
        "from sklearn.metrics import log_loss, accuracy_score\n",
        "\n",
        "predictions_train_prob = model.predict(X_train)\n",
        "predictions_val_prob = model.predict(T)\n"
      ],
      "execution_count": 95,
      "outputs": []
    },
    {
      "cell_type": "code",
      "metadata": {
        "colab": {
          "base_uri": "https://localhost:8080/"
        },
        "id": "RavTgOjLFEes",
        "outputId": "d60bd15a-fdd7-41e0-96c3-578a5099814d"
      },
      "source": [
        "print(predictions_train_prob[:10])\n",
        "print(y_train[:10])\n",
        "\n",
        "#H = [X[0] for X in predictions_train_prob]\n",
        "\n",
        "#print(\"Log-loss: (%f) %f\"%(log_loss(y_train,predictions_train_prob[:,1]),log_loss(y_test,predictions_val_prob[:,1])))"
      ],
      "execution_count": 96,
      "outputs": [
        {
          "output_type": "stream",
          "text": [
            "[[0.98182136 0.0181787 ]\n",
            " [0.95644    0.04355998]\n",
            " [0.9664179  0.03358207]\n",
            " [0.5074502  0.4925498 ]\n",
            " [0.5071384  0.49286163]\n",
            " [0.9244579  0.07554207]\n",
            " [0.94158614 0.05841379]\n",
            " [0.55895877 0.44104123]\n",
            " [0.31481078 0.68518925]\n",
            " [0.9720638  0.02793625]]\n",
            "[[1. 0.]\n",
            " [1. 0.]\n",
            " [1. 0.]\n",
            " [0. 1.]\n",
            " [0. 1.]\n",
            " [1. 0.]\n",
            " [1. 0.]\n",
            " [1. 0.]\n",
            " [0. 1.]\n",
            " [1. 0.]]\n"
          ],
          "name": "stdout"
        }
      ]
    },
    {
      "cell_type": "code",
      "metadata": {
        "id": "sna6-aceKBjL",
        "colab": {
          "base_uri": "https://localhost:8080/"
        },
        "outputId": "7d205609-eea5-4e18-9f38-6ab142411cc1"
      },
      "source": [
        "# Predict Kaggle set\n",
        "H = [X[1] for X in predictions_val_prob]\n",
        "print(H[:5])\n",
        "print(len(H))\n",
        "print(len(test_index_col))\n",
        "\n",
        "predictions_df = pd.DataFrame({\"GeneId\":test_index_col,\"Label\":H})\n",
        "predictions_df.head()\n",
        "predictions_df.to_csv('submission_dl3.csv', index=False)"
      ],
      "execution_count": 97,
      "outputs": [
        {
          "output_type": "stream",
          "text": [
            "[0.9453295, 0.11799873, 0.056134973, 0.8856515, 0.83883196]\n",
            "5049\n",
            "5049\n"
          ],
          "name": "stdout"
        }
      ]
    }
  ]
}