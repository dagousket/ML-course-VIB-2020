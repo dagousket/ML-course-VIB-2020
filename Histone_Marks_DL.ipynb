{
  "nbformat": 4,
  "nbformat_minor": 0,
  "metadata": {
    "colab": {
      "name": "Histone_Marks_DL.ipynb",
      "provenance": [],
      "collapsed_sections": [],
      "toc_visible": true,
      "authorship_tag": "ABX9TyPv3xqXrq8f8Up/UScxE1+W",
      "include_colab_link": true
    },
    "kernelspec": {
      "name": "python3",
      "display_name": "Python 3"
    },
    "accelerator": "GPU"
  },
  "cells": [
    {
      "cell_type": "markdown",
      "metadata": {
        "id": "view-in-github",
        "colab_type": "text"
      },
      "source": [
        "<a href=\"https://colab.research.google.com/github/dagousket/ML-course-VIB-2020/blob/master/Histone_Marks_DL.ipynb\" target=\"_parent\"><img src=\"https://colab.research.google.com/assets/colab-badge.svg\" alt=\"Open In Colab\"/></a>"
      ]
    },
    {
      "cell_type": "markdown",
      "metadata": {
        "id": "o52twcg0ab9e"
      },
      "source": [
        "### Let's go Deep Learning style!\n"
      ]
    },
    {
      "cell_type": "code",
      "metadata": {
        "id": "739qUvqTa-w2"
      },
      "source": [
        "%matplotlib inline\n",
        "\n",
        "import matplotlib.pyplot as plt\n",
        "import numpy as np\n",
        "import pandas as pd\n",
        "import seaborn as sns\n",
        "import os\n",
        "import PIL\n",
        "import tensorflow as tf\n",
        "\n",
        "random_seed = 666\n",
        "np.random.seed(random_seed)\n",
        "\n",
        "from tensorflow import keras\n",
        "from tensorflow.keras import layers\n",
        "from tensorflow.keras.models import Sequential\n",
        "from sklearn.metrics import log_loss, accuracy_score"
      ],
      "execution_count": 2,
      "outputs": []
    },
    {
      "cell_type": "markdown",
      "metadata": {
        "id": "qCN6O91jc5qF"
      },
      "source": [
        "### Import and format data"
      ]
    },
    {
      "cell_type": "code",
      "metadata": {
        "id": "OJQcWIwjc6-9"
      },
      "source": [
        "train = pd.read_csv(\"https://raw.githubusercontent.com/sdgroeve/ML-course-VIB-2020/master/data/data_train.csv\")\n",
        "test = pd.read_csv(\"https://raw.githubusercontent.com/sdgroeve/ML-course-VIB-2020/master/data/data_test.csv\")\n",
        "\n",
        "# Save labels in external variable\n",
        "train_labels = train.pop(\"Label\")\n",
        "train_index_col = train.pop(\"GeneId\")\n",
        "test_index_col = test.pop(\"GeneId\")"
      ],
      "execution_count": 4,
      "outputs": []
    },
    {
      "cell_type": "code",
      "metadata": {
        "id": "ymCobsFUdMRF"
      },
      "source": [
        "marks = list(set([c_name.split(\"_\")[0] for c_name in train.columns]))\n",
        "\n",
        "# Shape of array will be 100 bins * 5 histone marks\n",
        "\n",
        "def pool_marks(mybins, marks) :\n",
        "  df = pd.DataFrame()\n",
        "  for mark in marks :\n",
        "      df.reset_index()\n",
        "      df[mark] = mybins[[mark + \"_\" + str(bin) for bin in range(0,100)]].to_numpy()\n",
        "  df = df.to_numpy() / 200\n",
        "  return df\n",
        "\n",
        "def get_input(X, marks):\n",
        "  res_out = X.apply(lambda y : pool_marks(y, marks), axis = 1)\n",
        "  return pd.DataFrame(res_out)\n",
        "\n",
        "X = [A for A in get_input(train, marks).iloc[:,0]]\n",
        "X = np.array([np.array(dp) for dp in X])\n",
        "\n",
        "T = [A for A in get_input(test, marks).iloc[:,0]]\n",
        "T = np.array([np.array(dp) for dp in T])"
      ],
      "execution_count": 5,
      "outputs": []
    },
    {
      "cell_type": "code",
      "metadata": {
        "id": "3Tmk2yyeaSTz",
        "colab": {
          "base_uri": "https://localhost:8080/"
        },
        "outputId": "18da8e6f-4c8b-4d25-d6bd-fb34f351729d"
      },
      "source": [
        "print(X.shape)\n",
        "print(T.shape)\n",
        "X[:5]"
      ],
      "execution_count": 6,
      "outputs": [
        {
          "output_type": "stream",
          "text": [
            "(10436, 100, 5)\n",
            "(5049, 100, 5)\n"
          ],
          "name": "stdout"
        },
        {
          "output_type": "execute_result",
          "data": {
            "text/plain": [
              "array([[[0.005, 0.005, 0.015, 0.01 , 0.005],\n",
              "        [0.01 , 0.   , 0.005, 0.025, 0.005],\n",
              "        [0.015, 0.025, 0.015, 0.04 , 0.005],\n",
              "        ...,\n",
              "        [0.04 , 0.03 , 0.015, 0.08 , 0.01 ],\n",
              "        [0.055, 0.025, 0.01 , 0.075, 0.01 ],\n",
              "        [0.05 , 0.01 , 0.01 , 0.06 , 0.01 ]],\n",
              "\n",
              "       [[0.   , 0.005, 0.   , 0.005, 0.   ],\n",
              "        [0.   , 0.   , 0.01 , 0.01 , 0.01 ],\n",
              "        [0.   , 0.   , 0.005, 0.005, 0.01 ],\n",
              "        ...,\n",
              "        [0.005, 0.   , 0.   , 0.005, 0.   ],\n",
              "        [0.005, 0.   , 0.   , 0.   , 0.005],\n",
              "        [0.005, 0.   , 0.   , 0.   , 0.005]],\n",
              "\n",
              "       [[0.015, 0.005, 0.005, 0.005, 0.035],\n",
              "        [0.01 , 0.005, 0.01 , 0.005, 0.02 ],\n",
              "        [0.01 , 0.005, 0.   , 0.02 , 0.01 ],\n",
              "        ...,\n",
              "        [0.   , 0.005, 0.005, 0.005, 0.01 ],\n",
              "        [0.005, 0.01 , 0.   , 0.   , 0.005],\n",
              "        [0.005, 0.005, 0.   , 0.005, 0.005]],\n",
              "\n",
              "       [[0.01 , 0.005, 0.015, 0.02 , 0.02 ],\n",
              "        [0.01 , 0.005, 0.015, 0.005, 0.   ],\n",
              "        [0.03 , 0.005, 0.005, 0.005, 0.005],\n",
              "        ...,\n",
              "        [0.015, 0.01 , 0.01 , 0.005, 0.01 ],\n",
              "        [0.005, 0.02 , 0.01 , 0.01 , 0.015],\n",
              "        [0.015, 0.   , 0.   , 0.   , 0.02 ]],\n",
              "\n",
              "       [[0.005, 0.   , 0.04 , 0.01 , 0.005],\n",
              "        [0.01 , 0.005, 0.015, 0.005, 0.   ],\n",
              "        [0.   , 0.01 , 0.015, 0.   , 0.   ],\n",
              "        ...,\n",
              "        [0.01 , 0.   , 0.   , 0.   , 0.01 ],\n",
              "        [0.005, 0.01 , 0.005, 0.01 , 0.01 ],\n",
              "        [0.005, 0.005, 0.   , 0.005, 0.   ]]])"
            ]
          },
          "metadata": {
            "tags": []
          },
          "execution_count": 6
        }
      ]
    },
    {
      "cell_type": "code",
      "metadata": {
        "colab": {
          "base_uri": "https://localhost:8080/"
        },
        "id": "CPfrr6y_hJEy",
        "outputId": "69b91373-23b0-4182-afde-f20601766f5d"
      },
      "source": [
        "#one-hot encode target column\n",
        "from keras.utils import to_categorical\n",
        "\n",
        "# 2-class array\n",
        "train_labels_cat = np.array([Y for Y in to_categorical(train_labels)])\n",
        "\n",
        "# 1-class array\n",
        "train_labels_cat = np.array([float(Y[1]) for Y in to_categorical(train_labels)])\n",
        "train_labels_cat = train_labels_cat.reshape((train_labels_cat.shape[0], 1))\n",
        "\n",
        "print(train_labels_cat.shape)\n",
        "print(train_labels_cat[:5])\n",
        "print(train_labels[:5])"
      ],
      "execution_count": 72,
      "outputs": [
        {
          "output_type": "stream",
          "text": [
            "(10436, 1)\n",
            "[[1.]\n",
            " [1.]\n",
            " [0.]\n",
            " [0.]\n",
            " [1.]]\n",
            "0    1\n",
            "1    1\n",
            "2    0\n",
            "3    0\n",
            "4    1\n",
            "Name: Label, dtype: int64\n"
          ],
          "name": "stdout"
        }
      ]
    },
    {
      "cell_type": "code",
      "metadata": {
        "id": "kxcaZyt3BHXG"
      },
      "source": [
        "from sklearn.model_selection import train_test_split\n",
        "\n",
        "X_train, X_test, y_train, y_test = train_test_split(X, train_labels_cat, test_size=0.25)"
      ],
      "execution_count": 96,
      "outputs": []
    },
    {
      "cell_type": "markdown",
      "metadata": {
        "id": "3dNpRwWzknN2"
      },
      "source": [
        "### Make a DL model"
      ]
    },
    {
      "cell_type": "code",
      "metadata": {
        "id": "kET6zgjVKdd2",
        "colab": {
          "base_uri": "https://localhost:8080/"
        },
        "outputId": "6faffbb8-1fe3-40fb-80f9-8c6a72c4133b"
      },
      "source": [
        "from sklearn.metrics import log_loss\n",
        "import tensorflow as tf\n",
        "\n",
        "def custom_loss_function(y_true, y_pred):\n",
        "  # 2-class\n",
        "  #custom_logloss = tf.compat.v1.losses.log_loss(y_true[:, 1], y_pred[:, 1])\n",
        "  # 1-class\n",
        "  custom_logloss = tf.compat.v1.losses.log_loss(y_true, y_pred)\n",
        "  return custom_logloss\n",
        "\n",
        "y_true = y_train[:5]\n",
        "y_pred = predictions_train_prob[:5]\n",
        "cl = custom_loss_function(np.array(y_true),np.array(y_pred))\n",
        "print(cl)"
      ],
      "execution_count": 97,
      "outputs": [
        {
          "output_type": "stream",
          "text": [
            "tf.Tensor(1.2853619, shape=(), dtype=float32)\n"
          ],
          "name": "stdout"
        }
      ]
    },
    {
      "cell_type": "code",
      "metadata": {
        "colab": {
          "base_uri": "https://localhost:8080/"
        },
        "id": "CUVpsKhPkqJr",
        "outputId": "f76dcc4a-4c83-4114-fae8-452e5be1c76a"
      },
      "source": [
        "from keras.layers.recurrent import LSTM\n",
        "\n",
        "num_classes = 1\n",
        "\n",
        "model = Sequential([\n",
        "  layers.InputLayer(input_shape=(100,5)),\n",
        "  layers.Conv1D(60, kernel_size=3, padding=\"valid\", activation='relu', kernel_initializer='random_uniform', data_format =\"channels_last\"),\n",
        "  layers.MaxPooling1D(pool_size=3, strides=1, padding='valid'),\n",
        "  layers.Dropout(0.3),\n",
        "  layers.TimeDistributed(layers.Dense(128, activation='relu')),\n",
        "  layers.Bidirectional(LSTM(128, dropout=0.1, recurrent_dropout=0.1, return_sequences=True)),\n",
        "  layers.Dropout(0.2),\n",
        "  layers.Dense(20, activation='relu'),\n",
        "  layers.Dropout(0.4),\n",
        "  layers.Flatten(),\n",
        "  layers.Dense(num_classes, activation='sigmoid')])\n",
        "\n",
        "#model = Sequential()\n",
        "#model.add(layers.Conv1D(40, kernel_size=3, input_shape=(100,5)))\n",
        "#model.add(layers.MaxPooling1D(pool_size=3, strides=1))\n",
        "#model.add(layers.Dense(64, input_dim=20, activation='relu'))\n",
        "#model.add(layers.Dropout(0.5))\n",
        "#model.add(layers.Dense(64, activation='relu'))\n",
        "#model.add(layers.Dropout(0.5))\n",
        "#model.add(layers.Flatten())\n",
        "#model.add(layers.Dense(1, activation='sigmoid'))\n",
        "\n",
        "#model.compile(loss='binary_crossentropy',optimizer='adam',metrics=['accuracy'])\n",
        "\n",
        "model.compile(optimizer='adam',loss=custom_loss_function,metrics=['accuracy'])\n",
        "\n",
        "model.summary()"
      ],
      "execution_count": 98,
      "outputs": [
        {
          "output_type": "stream",
          "text": [
            "WARNING:tensorflow:Layer lstm_10 will not use cuDNN kernel since it doesn't meet the cuDNN kernel criteria. It will use generic GPU kernel as fallback when running on GPU\n",
            "WARNING:tensorflow:Layer lstm_10 will not use cuDNN kernel since it doesn't meet the cuDNN kernel criteria. It will use generic GPU kernel as fallback when running on GPU\n",
            "WARNING:tensorflow:Layer lstm_10 will not use cuDNN kernel since it doesn't meet the cuDNN kernel criteria. It will use generic GPU kernel as fallback when running on GPU\n",
            "Model: \"sequential_22\"\n",
            "_________________________________________________________________\n",
            "Layer (type)                 Output Shape              Param #   \n",
            "=================================================================\n",
            "conv1d_13 (Conv1D)           (None, 98, 60)            960       \n",
            "_________________________________________________________________\n",
            "max_pooling1d_13 (MaxPooling (None, 96, 60)            0         \n",
            "_________________________________________________________________\n",
            "dropout_45 (Dropout)         (None, 96, 60)            0         \n",
            "_________________________________________________________________\n",
            "time_distributed_10 (TimeDis (None, 96, 128)           7808      \n",
            "_________________________________________________________________\n",
            "bidirectional_10 (Bidirectio (None, 96, 256)           263168    \n",
            "_________________________________________________________________\n",
            "dropout_46 (Dropout)         (None, 96, 256)           0         \n",
            "_________________________________________________________________\n",
            "dense_64 (Dense)             (None, 96, 20)            5140      \n",
            "_________________________________________________________________\n",
            "dropout_47 (Dropout)         (None, 96, 20)            0         \n",
            "_________________________________________________________________\n",
            "flatten_17 (Flatten)         (None, 1920)              0         \n",
            "_________________________________________________________________\n",
            "dense_65 (Dense)             (None, 1)                 1921      \n",
            "=================================================================\n",
            "Total params: 278,997\n",
            "Trainable params: 278,997\n",
            "Non-trainable params: 0\n",
            "_________________________________________________________________\n"
          ],
          "name": "stdout"
        }
      ]
    },
    {
      "cell_type": "code",
      "metadata": {
        "colab": {
          "base_uri": "https://localhost:8080/"
        },
        "id": "M5i0PnDxlVmB",
        "outputId": "4f1378b4-cef2-45be-9021-de32b74859a5"
      },
      "source": [
        "\n",
        "history=model.fit(X_train, y_train, batch_size=200 , epochs=60 , verbose=1, validation_data=(X_test, y_test))\n"
      ],
      "execution_count": 99,
      "outputs": [
        {
          "output_type": "stream",
          "text": [
            "Epoch 1/60\n",
            "40/40 [==============================] - 28s 691ms/step - loss: 0.5090 - accuracy: 0.7924 - val_loss: 0.4128 - val_accuracy: 0.8363\n",
            "Epoch 2/60\n",
            "40/40 [==============================] - 27s 677ms/step - loss: 0.4086 - accuracy: 0.8352 - val_loss: 0.3640 - val_accuracy: 0.8567\n",
            "Epoch 3/60\n",
            "40/40 [==============================] - 28s 697ms/step - loss: 0.3843 - accuracy: 0.8446 - val_loss: 0.3691 - val_accuracy: 0.8597\n",
            "Epoch 4/60\n",
            "40/40 [==============================] - 27s 685ms/step - loss: 0.3818 - accuracy: 0.8495 - val_loss: 0.3564 - val_accuracy: 0.8639\n",
            "Epoch 5/60\n",
            "40/40 [==============================] - 27s 678ms/step - loss: 0.3768 - accuracy: 0.8501 - val_loss: 0.3598 - val_accuracy: 0.8674\n",
            "Epoch 6/60\n",
            "40/40 [==============================] - 27s 684ms/step - loss: 0.3811 - accuracy: 0.8485 - val_loss: 0.3552 - val_accuracy: 0.8624\n",
            "Epoch 7/60\n",
            "40/40 [==============================] - 27s 683ms/step - loss: 0.3870 - accuracy: 0.8473 - val_loss: 0.3631 - val_accuracy: 0.8601\n",
            "Epoch 8/60\n",
            "40/40 [==============================] - 27s 679ms/step - loss: 0.3816 - accuracy: 0.8494 - val_loss: 0.3589 - val_accuracy: 0.8704\n",
            "Epoch 9/60\n",
            "40/40 [==============================] - 28s 689ms/step - loss: 0.3714 - accuracy: 0.8517 - val_loss: 0.3499 - val_accuracy: 0.8662\n",
            "Epoch 10/60\n",
            "40/40 [==============================] - 27s 682ms/step - loss: 0.3704 - accuracy: 0.8521 - val_loss: 0.3645 - val_accuracy: 0.8635\n",
            "Epoch 11/60\n",
            "40/40 [==============================] - 27s 685ms/step - loss: 0.3789 - accuracy: 0.8533 - val_loss: 0.3515 - val_accuracy: 0.8716\n",
            "Epoch 12/60\n",
            "40/40 [==============================] - 27s 683ms/step - loss: 0.3717 - accuracy: 0.8517 - val_loss: 0.3493 - val_accuracy: 0.8666\n",
            "Epoch 13/60\n",
            "40/40 [==============================] - 28s 691ms/step - loss: 0.3712 - accuracy: 0.8517 - val_loss: 0.3524 - val_accuracy: 0.8697\n",
            "Epoch 14/60\n",
            "40/40 [==============================] - 27s 687ms/step - loss: 0.3704 - accuracy: 0.8519 - val_loss: 0.3694 - val_accuracy: 0.8632\n",
            "Epoch 15/60\n",
            "40/40 [==============================] - 27s 683ms/step - loss: 0.3746 - accuracy: 0.8510 - val_loss: 0.3852 - val_accuracy: 0.8578\n",
            "Epoch 16/60\n",
            "40/40 [==============================] - 28s 691ms/step - loss: 0.3685 - accuracy: 0.8532 - val_loss: 0.3538 - val_accuracy: 0.8724\n",
            "Epoch 17/60\n",
            "40/40 [==============================] - 28s 710ms/step - loss: 0.3722 - accuracy: 0.8533 - val_loss: 0.3989 - val_accuracy: 0.8478\n",
            "Epoch 18/60\n",
            "40/40 [==============================] - 28s 696ms/step - loss: 0.3753 - accuracy: 0.8521 - val_loss: 0.3777 - val_accuracy: 0.8494\n",
            "Epoch 19/60\n",
            "40/40 [==============================] - 28s 694ms/step - loss: 0.3769 - accuracy: 0.8498 - val_loss: 0.3587 - val_accuracy: 0.8674\n",
            "Epoch 20/60\n",
            "40/40 [==============================] - 27s 676ms/step - loss: 0.3721 - accuracy: 0.8523 - val_loss: 0.3480 - val_accuracy: 0.8689\n",
            "Epoch 21/60\n",
            "40/40 [==============================] - 28s 688ms/step - loss: 0.3667 - accuracy: 0.8541 - val_loss: 0.3468 - val_accuracy: 0.8689\n",
            "Epoch 22/60\n",
            "40/40 [==============================] - 28s 700ms/step - loss: 0.3658 - accuracy: 0.8526 - val_loss: 0.3519 - val_accuracy: 0.8678\n",
            "Epoch 23/60\n",
            "40/40 [==============================] - 28s 688ms/step - loss: 0.3650 - accuracy: 0.8535 - val_loss: 0.3458 - val_accuracy: 0.8735\n",
            "Epoch 24/60\n",
            "40/40 [==============================] - 27s 676ms/step - loss: 0.3676 - accuracy: 0.8551 - val_loss: 0.3462 - val_accuracy: 0.8731\n",
            "Epoch 25/60\n",
            "40/40 [==============================] - 27s 674ms/step - loss: 0.3658 - accuracy: 0.8559 - val_loss: 0.3457 - val_accuracy: 0.8662\n",
            "Epoch 26/60\n",
            "40/40 [==============================] - 28s 690ms/step - loss: 0.3669 - accuracy: 0.8556 - val_loss: 0.3647 - val_accuracy: 0.8620\n",
            "Epoch 27/60\n",
            "40/40 [==============================] - 27s 687ms/step - loss: 0.3707 - accuracy: 0.8538 - val_loss: 0.3461 - val_accuracy: 0.8727\n",
            "Epoch 28/60\n",
            "40/40 [==============================] - 29s 722ms/step - loss: 0.3614 - accuracy: 0.8551 - val_loss: 0.3476 - val_accuracy: 0.8724\n",
            "Epoch 29/60\n",
            "40/40 [==============================] - 28s 693ms/step - loss: 0.3613 - accuracy: 0.8556 - val_loss: 0.3439 - val_accuracy: 0.8731\n",
            "Epoch 30/60\n",
            "40/40 [==============================] - 27s 680ms/step - loss: 0.3638 - accuracy: 0.8542 - val_loss: 0.3462 - val_accuracy: 0.8674\n",
            "Epoch 31/60\n",
            "40/40 [==============================] - 28s 688ms/step - loss: 0.3614 - accuracy: 0.8559 - val_loss: 0.3476 - val_accuracy: 0.8674\n",
            "Epoch 32/60\n",
            "40/40 [==============================] - 28s 688ms/step - loss: 0.3597 - accuracy: 0.8560 - val_loss: 0.3498 - val_accuracy: 0.8681\n",
            "Epoch 33/60\n",
            "40/40 [==============================] - 28s 700ms/step - loss: 0.3599 - accuracy: 0.8567 - val_loss: 0.3593 - val_accuracy: 0.8632\n",
            "Epoch 34/60\n",
            "40/40 [==============================] - 27s 678ms/step - loss: 0.3615 - accuracy: 0.8550 - val_loss: 0.3538 - val_accuracy: 0.8674\n",
            "Epoch 35/60\n",
            "40/40 [==============================] - 27s 686ms/step - loss: 0.3597 - accuracy: 0.8573 - val_loss: 0.3472 - val_accuracy: 0.8666\n",
            "Epoch 36/60\n",
            "40/40 [==============================] - 28s 704ms/step - loss: 0.3642 - accuracy: 0.8565 - val_loss: 0.3546 - val_accuracy: 0.8643\n",
            "Epoch 37/60\n",
            "40/40 [==============================] - 28s 709ms/step - loss: 0.3566 - accuracy: 0.8575 - val_loss: 0.3491 - val_accuracy: 0.8670\n",
            "Epoch 38/60\n",
            "40/40 [==============================] - 29s 729ms/step - loss: 0.3595 - accuracy: 0.8582 - val_loss: 0.3437 - val_accuracy: 0.8724\n",
            "Epoch 39/60\n",
            "40/40 [==============================] - 29s 717ms/step - loss: 0.3581 - accuracy: 0.8586 - val_loss: 0.3446 - val_accuracy: 0.8651\n",
            "Epoch 40/60\n",
            "40/40 [==============================] - 28s 697ms/step - loss: 0.3566 - accuracy: 0.8602 - val_loss: 0.3549 - val_accuracy: 0.8643\n",
            "Epoch 41/60\n",
            "40/40 [==============================] - 28s 703ms/step - loss: 0.3633 - accuracy: 0.8572 - val_loss: 0.3491 - val_accuracy: 0.8674\n",
            "Epoch 42/60\n",
            "40/40 [==============================] - 28s 697ms/step - loss: 0.3617 - accuracy: 0.8563 - val_loss: 0.3430 - val_accuracy: 0.8701\n",
            "Epoch 43/60\n",
            "40/40 [==============================] - 28s 704ms/step - loss: 0.3549 - accuracy: 0.8581 - val_loss: 0.3496 - val_accuracy: 0.8651\n",
            "Epoch 44/60\n",
            "40/40 [==============================] - 28s 700ms/step - loss: 0.3593 - accuracy: 0.8578 - val_loss: 0.3420 - val_accuracy: 0.8681\n",
            "Epoch 45/60\n",
            "40/40 [==============================] - 27s 677ms/step - loss: 0.3553 - accuracy: 0.8572 - val_loss: 0.3440 - val_accuracy: 0.8697\n",
            "Epoch 46/60\n",
            "40/40 [==============================] - 28s 695ms/step - loss: 0.3564 - accuracy: 0.8587 - val_loss: 0.3514 - val_accuracy: 0.8624\n",
            "Epoch 47/60\n",
            "40/40 [==============================] - 28s 688ms/step - loss: 0.3616 - accuracy: 0.8569 - val_loss: 0.3768 - val_accuracy: 0.8528\n",
            "Epoch 48/60\n",
            "40/40 [==============================] - 27s 685ms/step - loss: 0.3575 - accuracy: 0.8589 - val_loss: 0.3497 - val_accuracy: 0.8620\n",
            "Epoch 49/60\n",
            "40/40 [==============================] - 27s 670ms/step - loss: 0.3562 - accuracy: 0.8564 - val_loss: 0.3433 - val_accuracy: 0.8685\n",
            "Epoch 50/60\n",
            "40/40 [==============================] - 28s 694ms/step - loss: 0.3523 - accuracy: 0.8609 - val_loss: 0.3416 - val_accuracy: 0.8697\n",
            "Epoch 51/60\n",
            "40/40 [==============================] - 28s 704ms/step - loss: 0.3553 - accuracy: 0.8584 - val_loss: 0.3403 - val_accuracy: 0.8685\n",
            "Epoch 52/60\n",
            "40/40 [==============================] - 27s 686ms/step - loss: 0.3492 - accuracy: 0.8588 - val_loss: 0.3469 - val_accuracy: 0.8655\n",
            "Epoch 53/60\n",
            "40/40 [==============================] - 28s 698ms/step - loss: 0.3506 - accuracy: 0.8604 - val_loss: 0.3469 - val_accuracy: 0.8689\n",
            "Epoch 54/60\n",
            "40/40 [==============================] - 28s 704ms/step - loss: 0.3496 - accuracy: 0.8638 - val_loss: 0.3430 - val_accuracy: 0.8674\n",
            "Epoch 55/60\n",
            "40/40 [==============================] - 27s 686ms/step - loss: 0.3522 - accuracy: 0.8615 - val_loss: 0.3451 - val_accuracy: 0.8670\n",
            "Epoch 56/60\n",
            "40/40 [==============================] - 28s 699ms/step - loss: 0.3474 - accuracy: 0.8598 - val_loss: 0.3495 - val_accuracy: 0.8685\n",
            "Epoch 57/60\n",
            "40/40 [==============================] - 27s 679ms/step - loss: 0.3473 - accuracy: 0.8625 - val_loss: 0.3449 - val_accuracy: 0.8666\n",
            "Epoch 58/60\n",
            "40/40 [==============================] - 27s 678ms/step - loss: 0.3500 - accuracy: 0.8610 - val_loss: 0.3403 - val_accuracy: 0.8708\n",
            "Epoch 59/60\n",
            "40/40 [==============================] - 28s 689ms/step - loss: 0.3507 - accuracy: 0.8633 - val_loss: 0.3421 - val_accuracy: 0.8697\n",
            "Epoch 60/60\n",
            "40/40 [==============================] - 27s 683ms/step - loss: 0.3510 - accuracy: 0.8616 - val_loss: 0.3444 - val_accuracy: 0.8678\n"
          ],
          "name": "stdout"
        }
      ]
    },
    {
      "cell_type": "code",
      "metadata": {
        "id": "FUwDJOtBCVxI",
        "colab": {
          "base_uri": "https://localhost:8080/"
        },
        "outputId": "05736275-a520-4812-b06d-a09418be63e9"
      },
      "source": [
        "from sklearn.metrics import log_loss, accuracy_score\n",
        "\n",
        "predictions_train_prob = model.predict(X_train)\n",
        "predictions_test_prob = model.predict(X_test)\n",
        "\n",
        "print(predictions_train_prob[:5])\n",
        "print(y_train[:5])\n",
        "print(predictions_test_prob[:5])\n",
        "print(y_test[:5])"
      ],
      "execution_count": 106,
      "outputs": [
        {
          "output_type": "stream",
          "text": [
            "[[0.12308866]\n",
            " [0.91856253]\n",
            " [0.08872909]\n",
            " [0.07651903]\n",
            " [0.01962665]]\n",
            "[[0.]\n",
            " [1.]\n",
            " [0.]\n",
            " [1.]\n",
            " [0.]]\n",
            "[[0.7923171 ]\n",
            " [0.07175089]\n",
            " [0.10678643]\n",
            " [0.1041955 ]\n",
            " [0.9215231 ]]\n",
            "[[1.]\n",
            " [0.]\n",
            " [0.]\n",
            " [0.]\n",
            " [1.]]\n"
          ],
          "name": "stdout"
        }
      ]
    },
    {
      "cell_type": "code",
      "metadata": {
        "colab": {
          "base_uri": "https://localhost:8080/"
        },
        "id": "9E6d_bcA-mRB",
        "outputId": "52603d3c-b923-49d8-aafe-4228ced35ad3"
      },
      "source": [
        "# Log Loss from Tensor Flow\n",
        "print(tf.compat.v1.losses.log_loss(y_train, predictions_train_prob))\n",
        "print(tf.compat.v1.losses.log_loss(y_test, predictions_test_prob))\n",
        "\n",
        "print(tf.keras.losses.BinaryCrossentropy(y_train, predictions_train_prob))\n",
        "print(tf.keras.losses.BinaryCrossentropy(y_test, predictions_test_prob))\n",
        "#print(tf.compat.v1.losses.log_loss([y[1] for y in y_test], [p[1] for p in predictions_test_prob]))"
      ],
      "execution_count": 101,
      "outputs": [
        {
          "output_type": "stream",
          "text": [
            "tf.Tensor(0.34256044, shape=(), dtype=float32)\n",
            "tf.Tensor(0.34440696, shape=(), dtype=float32)\n",
            "<tensorflow.python.keras.losses.BinaryCrossentropy object at 0x7fd530dcbe80>\n",
            "<tensorflow.python.keras.losses.BinaryCrossentropy object at 0x7fd530dcb390>\n"
          ],
          "name": "stdout"
        }
      ]
    },
    {
      "cell_type": "code",
      "metadata": {
        "colab": {
          "base_uri": "https://localhost:8080/"
        },
        "id": "mGVwkYBw_Fah",
        "outputId": "563a88a8-2d0e-407a-b9fc-d4bddee41b91"
      },
      "source": [
        "# Log Loss from Keras\n",
        "from sklearn.metrics import log_loss\n",
        "print(log_loss( y_train, predictions_train_prob))\n",
        "print(log_loss( y_test, predictions_test_prob))\n",
        "\n",
        "#print(log_loss([y[1] for y in y_train], [p[1] for p in predictions_train_prob]))\n",
        "#print(log_loss([y[1] for y in y_test], [p[1] for p in predictions_test_prob]))"
      ],
      "execution_count": 102,
      "outputs": [
        {
          "output_type": "stream",
          "text": [
            "0.34256064634889394\n",
            "0.3444072429404689\n"
          ],
          "name": "stdout"
        }
      ]
    },
    {
      "cell_type": "code",
      "metadata": {
        "id": "sna6-aceKBjL",
        "colab": {
          "base_uri": "https://localhost:8080/"
        },
        "outputId": "f95b9a95-3bbf-4e40-8feb-bd37cc951601"
      },
      "source": [
        "# Predict Kaggle set\n",
        "predictions_val_prob = model.predict(T)\n",
        "predictions_val_prob[:5]"
      ],
      "execution_count": 103,
      "outputs": [
        {
          "output_type": "execute_result",
          "data": {
            "text/plain": [
              "array([[0.955695  ],\n",
              "       [0.1870415 ],\n",
              "       [0.08750492],\n",
              "       [0.93770283],\n",
              "       [0.88538533]], dtype=float32)"
            ]
          },
          "metadata": {
            "tags": []
          },
          "execution_count": 103
        }
      ]
    },
    {
      "cell_type": "code",
      "metadata": {
        "colab": {
          "base_uri": "https://localhost:8080/"
        },
        "id": "2u_weIQ-AY-5",
        "outputId": "5d9b51ba-5ee1-40d3-fc0c-e86f2b5191dd"
      },
      "source": [
        "H = [X[0] for X in predictions_val_prob]\n",
        "\n",
        "#H = [X[1] for X in predictions_val_prob]\n",
        "H[:5]"
      ],
      "execution_count": 104,
      "outputs": [
        {
          "output_type": "execute_result",
          "data": {
            "text/plain": [
              "[0.955695, 0.1870415, 0.087504916, 0.93770283, 0.88538533]"
            ]
          },
          "metadata": {
            "tags": []
          },
          "execution_count": 104
        }
      ]
    },
    {
      "cell_type": "code",
      "metadata": {
        "colab": {
          "base_uri": "https://localhost:8080/"
        },
        "id": "MHPpnI2DAl1P",
        "outputId": "e2d7a1d2-2f12-408a-ee69-d75eb7b5aa55"
      },
      "source": [
        "predictions_df = pd.DataFrame({\"GeneId\":test_index_col,\"Label\":H})\n",
        "print(predictions_df.head())\n",
        "predictions_df.to_csv('submission_dl7.csv', index=False)"
      ],
      "execution_count": 105,
      "outputs": [
        {
          "output_type": "stream",
          "text": [
            "   GeneId     Label\n",
            "0    5222  0.955695\n",
            "1     891  0.187042\n",
            "2    7219  0.087505\n",
            "3    7225  0.937703\n",
            "4    9432  0.885385\n"
          ],
          "name": "stdout"
        }
      ]
    }
  ]
}