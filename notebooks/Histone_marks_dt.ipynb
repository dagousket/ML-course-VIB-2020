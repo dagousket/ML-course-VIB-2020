{
  "nbformat": 4,
  "nbformat_minor": 0,
  "metadata": {
    "colab": {
      "name": "Histone_marks_dt.ipynb",
      "provenance": [],
      "toc_visible": true,
      "include_colab_link": true
    },
    "kernelspec": {
      "display_name": "Python 3",
      "language": "python",
      "name": "python3"
    },
    "language_info": {
      "codemirror_mode": {
        "name": "ipython",
        "version": 3
      },
      "file_extension": ".py",
      "mimetype": "text/x-python",
      "name": "python",
      "nbconvert_exporter": "python",
      "pygments_lexer": "ipython3",
      "version": "3.8.3"
    }
  },
  "cells": [
    {
      "cell_type": "markdown",
      "metadata": {
        "id": "view-in-github",
        "colab_type": "text"
      },
      "source": [
        "<a href=\"https://colab.research.google.com/github/dagousket/ML-course-VIB-2020/blob/master/notebooks/Histone_marks_dt.ipynb\" target=\"_parent\"><img src=\"https://colab.research.google.com/assets/colab-badge.svg\" alt=\"Open In Colab\"/></a>"
      ]
    },
    {
      "cell_type": "markdown",
      "metadata": {
        "id": "MiAyYSFE0YHL"
      },
      "source": [
        "# Histone modifications"
      ]
    },
    {
      "cell_type": "code",
      "metadata": {
        "id": "4Krri7AXy8UM"
      },
      "source": [
        "%matplotlib inline\n",
        "import matplotlib.pyplot as plt\n",
        "import numpy as np\n",
        "\n",
        "random_seed = 123\n",
        "np.random.seed(random_seed)"
      ],
      "execution_count": null,
      "outputs": []
    },
    {
      "cell_type": "markdown",
      "metadata": {
        "id": "q7DJU4Tny8Ua"
      },
      "source": [
        "# 1. Reading the data"
      ]
    },
    {
      "cell_type": "code",
      "metadata": {
        "id": "alZpE70qy8Uh"
      },
      "source": [
        "import pandas as pd\n",
        "\n",
        "train = pd.read_csv(\"https://raw.githubusercontent.com/sdgroeve/ML-course-VIB-2020/master/data/data_train.csv\")\n",
        "test = pd.read_csv(\"https://raw.githubusercontent.com/sdgroeve/ML-course-VIB-2020/master/data/data_test.csv\")"
      ],
      "execution_count": null,
      "outputs": []
    },
    {
      "cell_type": "code",
      "metadata": {
        "id": "qZuSUhLu4L8x"
      },
      "source": [
        "train_ids = train.pop(\"GeneId\")\n",
        "train_labels = train.pop(\"Label\")"
      ],
      "execution_count": null,
      "outputs": []
    },
    {
      "cell_type": "code",
      "metadata": {
        "id": "n4VjbA3ey8VN"
      },
      "source": [
        "test_index_col = test.pop(\"GeneId\")"
      ],
      "execution_count": null,
      "outputs": []
    },
    {
      "cell_type": "markdown",
      "metadata": {
        "id": "FesoIiyNy8Vd"
      },
      "source": [
        "# 2. Fitting a decision tree model"
      ]
    },
    {
      "cell_type": "markdown",
      "metadata": {
        "id": "CaqTeiPjy8Vg"
      },
      "source": [
        "The scikit-learn `DecisionTreeClassifier` class computes a decision tree predictive model from a dataset. \n",
        "\n",
        "To get all the options for learning you can simply type: "
      ]
    },
    {
      "cell_type": "code",
      "metadata": {
        "id": "yGi4kfLzy8Vh"
      },
      "source": [
        "from sklearn.tree import DecisionTreeClassifier\n",
        "help(DecisionTreeClassifier)"
      ],
      "execution_count": null,
      "outputs": []
    },
    {
      "cell_type": "markdown",
      "metadata": {
        "id": "RNn63QiNy8Vo"
      },
      "source": [
        "You notice that there are many hyperparameters to set. Some of these have a large impact on the complexity of the fitted model. An important such hyperparameter is the `max_depth` that sets a limit on how deep a decision tree can become. \n",
        "\n",
        "Let's create a decision tree model with `max_depth=3`:"
      ]
    },
    {
      "cell_type": "code",
      "metadata": {
        "id": "P0Pjoa08y8Vp"
      },
      "source": [
        "cls = DecisionTreeClassifier(max_depth=3)"
      ],
      "execution_count": null,
      "outputs": []
    },
    {
      "cell_type": "markdown",
      "metadata": {
        "id": "q-0bRK0ky8Vy"
      },
      "source": [
        "This creates a decision tree model with default values for the other hyperparameters:"
      ]
    },
    {
      "cell_type": "code",
      "metadata": {
        "id": "4vVO8Qnuy8V0"
      },
      "source": [
        "cls"
      ],
      "execution_count": null,
      "outputs": []
    },
    {
      "cell_type": "markdown",
      "metadata": {
        "id": "PYVjJV6Ay8WF"
      },
      "source": [
        "Let's create a validation set, fit the model and evaluate."
      ]
    },
    {
      "cell_type": "code",
      "metadata": {
        "id": "KPl3orbDy8WH"
      },
      "source": [
        "from sklearn.metrics import log_loss, accuracy_score\n",
        "from sklearn.model_selection import train_test_split\n",
        "\n",
        "train_X, val_X, train_y, val_y = train_test_split(train,train_labels,\n",
        "                                                  test_size=.2, random_state=random_seed)\n",
        "\n",
        "cls.fit(train_X,train_y)\n",
        "\n",
        "predictions_train = cls.predict(train_X)\n",
        "predictions_val = cls.predict(val_X)\n",
        "\n",
        "print(\"Accuracy: (%f) %f\"%(accuracy_score(predictions_train, train_y),accuracy_score(predictions_val, val_y)))\n",
        "\n",
        "predictions_train_prob = cls.predict_proba(train_X)\n",
        "predictions_val_prob = cls.predict_proba(val_X)\n",
        "\n",
        "print(\"Log-loss: (%f) %f\"%(log_loss(train_y,predictions_train_prob[:,-1]),log_loss(val_y,predictions_val_prob[:,-1])))"
      ],
      "execution_count": null,
      "outputs": []
    },
    {
      "cell_type": "markdown",
      "metadata": {
        "id": "ZZcpHy1My8Wj"
      },
      "source": [
        "The following code plots the fitted decision tree `cls` as a `tree.png` file:"
      ]
    },
    {
      "cell_type": "code",
      "metadata": {
        "id": "_H7Nlqs9y8Wl"
      },
      "source": [
        "\"\"\"\n",
        "from sklearn import tree\n",
        "from io import StringIO\n",
        "from IPython.display import Image, display\n",
        "import pydotplus\n",
        "\n",
        "out = StringIO()\n",
        "tree.export_graphviz(cls, out_file=out)\n",
        "graph=pydotplus.graph_from_dot_data(out.getvalue())\n",
        "graph.write_png(\"tree.png\")\n",
        "\"\"\""
      ],
      "execution_count": null,
      "outputs": []
    },
    {
      "cell_type": "markdown",
      "metadata": {
        "id": "wUjU9oGUB6vG"
      },
      "source": [
        "How do other values for for the `max_depth` hyperparameter perform?"
      ]
    },
    {
      "cell_type": "code",
      "metadata": {
        "id": "rLYKBq2u4VJT"
      },
      "source": [
        "import seaborn as sns\n",
        "\n",
        "result = []\n",
        "for md in range(1,10):\n",
        "  cls = DecisionTreeClassifier(max_depth=md)\n",
        "  cls.fit(train_X,train_y)\n",
        "  predictions_train_prob = cls.predict_proba(train_X)\n",
        "  predictions_val_prob = cls.predict_proba(val_X)\n",
        "  result.append([md,log_loss(train_y,predictions_train_prob[:,-1]),\"train\"])\n",
        "  result.append([md,log_loss(val_y,predictions_val_prob[:,-1]),\"val\"])\n",
        "\n",
        "toplot = pd.DataFrame(result,columns=[\"max_depth\",\"log-loss\",\"set\"])\n",
        "sns.lmplot(x=\"max_depth\",y=\"log-loss\",hue=\"set\",data=toplot,fit_reg=False)"
      ],
      "execution_count": null,
      "outputs": []
    },
    {
      "cell_type": "code",
      "metadata": {
        "id": "qxTo1fsvE2qi"
      },
      "source": [
        "cls = DecisionTreeClassifier(max_depth=9)\n",
        "\n",
        "predictions_list = []\n",
        "for i in range(10):\n",
        "  train_X, val_X, train_y, val_y = train_test_split(train,train_labels,\n",
        "                                                    test_size=.2, random_state=i)\n",
        "\n",
        "  cls.fit(train_X,train_y)\n",
        "  predictions_val = cls.predict(val_X)\n",
        "  predictions_val_prob = cls.predict_proba(val_X)\n",
        "  predictions_list.append(list(predictions_val_prob[:,-1]))\n",
        "  print(\"LogLoss: %f  Accuracy: %f\"%(log_loss(val_y,predictions_val_prob[:,-1]),accuracy_score(val_y,predictions_val)))"
      ],
      "execution_count": null,
      "outputs": []
    },
    {
      "cell_type": "code",
      "metadata": {
        "id": "SVh3OaSTfxAO"
      },
      "source": [
        "tmp = pd.DataFrame(predictions_list)\n",
        "predictions_avg = tmp.mean(axis=0)\n",
        "print(\"Avg. model: %f\"%(log_loss(val_y,predictions_avg)))"
      ],
      "execution_count": null,
      "outputs": []
    },
    {
      "cell_type": "code",
      "metadata": {
        "id": "chsATH-8GEeG"
      },
      "source": [
        "sns.pairplot(tmp.transpose(),kind=\"scatter\")"
      ],
      "execution_count": null,
      "outputs": []
    },
    {
      "cell_type": "markdown",
      "metadata": {
        "id": "XUgY_6Ply8X3"
      },
      "source": [
        "# 5. Ensemble learning: bagging\n",
        "\n",
        "We have seen that bias and variance play an important role in Machine Learning. \n",
        "\n",
        "Let's first see what bagging can do for our dataset. "
      ]
    },
    {
      "cell_type": "code",
      "metadata": {
        "id": "m16JfepBy8X4"
      },
      "source": [
        "from sklearn.ensemble import BaggingClassifier\n",
        "\n",
        "cls = BaggingClassifier(base_estimator=DecisionTreeClassifier(max_depth=4),random_state=random_seed)\n",
        "                                                            \n",
        "cls.fit(train_X,train_y)\n",
        "predictions_train = cls.predict(train_X)\n",
        "predictions_val = cls.predict(val_X)\n",
        "print(\"Accuracy: (%f) %f\"%(accuracy_score(predictions_train, train_y),accuracy_score(predictions_val, val_y)))\n",
        "predictions_train_prob = cls.predict_proba(train_X)\n",
        "predictions_val_prob = cls.predict_proba(val_X)\n",
        "print(\"Log-loss: (%f) %f\"%(log_loss(train_y,predictions_train_prob[:,1]),log_loss(val_y,predictions_val_prob[:,1])))"
      ],
      "execution_count": null,
      "outputs": []
    },
    {
      "cell_type": "markdown",
      "metadata": {
        "id": "vsA-43z8y8X9"
      },
      "source": [
        "With the `RandomForestClassifier` the variance of the decision tree is reduced also by selecting features for decision tree contruction at random. Let's see how far we get with default hyperparameter values.   "
      ]
    },
    {
      "cell_type": "code",
      "metadata": {
        "id": "UIfSnbtGy8X-"
      },
      "source": [
        "from sklearn.ensemble import RandomForestClassifier\n",
        "\n",
        "cls = RandomForestClassifier(random_state=random_seed)\n",
        "\n",
        "cls.fit(train_X,train_y)\n",
        "predictions_train = cls.predict(train_X)\n",
        "predictions_val = cls.predict(val_X)\n",
        "print(\"Accuracy: (%f) %f\"%(accuracy_score(predictions_train, train_y),accuracy_score(predictions_val, val_y)))\n",
        "predictions_train_prob = cls.predict_proba(train_X)\n",
        "predictions_val_prob = cls.predict_proba(val_X)\n",
        "print(\"Log-loss: (%f) %f\"%(log_loss(train_y,predictions_train_prob[:,1]),log_loss(val_y,predictions_val_prob[:,1])))"
      ],
      "execution_count": null,
      "outputs": []
    },
    {
      "cell_type": "markdown",
      "metadata": {
        "id": "HDdxvUZ6ZCd1"
      },
      "source": [
        "Let's get you started with PyCaret!"
      ]
    },
    {
      "cell_type": "code",
      "metadata": {
        "id": "zTEXmo3UQ5bU"
      },
      "source": [
        "! pip install pycaret"
      ],
      "execution_count": null,
      "outputs": []
    },
    {
      "cell_type": "code",
      "metadata": {
        "id": "NIg3wxby4gOd"
      },
      "source": [
        "from pycaret.classification import *\n",
        "\n",
        "train[\"Label\"] = train_labels\n",
        "setup(data=train,target=\"Label\",numeric_features=list(train.columns)[:-1], train_size=0.8, silent=True)"
      ],
      "execution_count": null,
      "outputs": []
    },
    {
      "cell_type": "code",
      "metadata": {
        "id": "z3-ddUJXQ3pW"
      },
      "source": [
        "from sklearn.metrics import log_loss\n",
        "\n",
        "add_metric('logloss', 'LogLoss', log_loss, greater_is_better=False, target=\"pred_proba\")"
      ],
      "execution_count": null,
      "outputs": []
    },
    {
      "cell_type": "code",
      "metadata": {
        "id": "uSxD1e7_UA18"
      },
      "source": [
        "rf = lr = create_model(\"rf\",fold=5)"
      ],
      "execution_count": null,
      "outputs": []
    },
    {
      "cell_type": "code",
      "metadata": {
        "id": "Sqdjfo3oUE50"
      },
      "source": [
        "tune_grid = {\n",
        "            \"n_estimators\": range(10, 300, 10),\n",
        "            \"max_depth\": range(1, 11, 1),\n",
        "            \"min_impurity_decrease\": [\n",
        "                0,\n",
        "                0.0001,\n",
        "                0.001,\n",
        "                0.01,\n",
        "                0.0002,\n",
        "                0.002,\n",
        "                0.02,\n",
        "                0.0005,\n",
        "                0.005,\n",
        "                0.05,\n",
        "                0.1,\n",
        "                0.2,\n",
        "                0.3,\n",
        "                0.4,\n",
        "                0.5,\n",
        "            ],\n",
        "            \"max_features\": [1.0, \"sqrt\", \"log2\"],\n",
        "            \"bootstrap\": [True, False],\n",
        "        }\n",
        "\n",
        "tuned_rf = tune_model(rf,tuner_verbose=2, n_iter=10, fold=5, custom_grid=tune_grid)"
      ],
      "execution_count": null,
      "outputs": []
    },
    {
      "cell_type": "code",
      "metadata": {
        "id": "eEPUwFoXV2fC"
      },
      "source": [
        ""
      ],
      "execution_count": null,
      "outputs": []
    }
  ]
}